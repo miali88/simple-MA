{
 "cells": [
  {
   "cell_type": "code",
   "execution_count": 1,
   "id": "78793b02-c2e5-4a1f-83d2-c11a8e554c6d",
   "metadata": {},
   "outputs": [],
   "source": [
    "import numpy as np\n",
    "import pandas as pd \n",
    "import matplotlib.pyplot as plt"
   ]
  },
  {
   "cell_type": "code",
   "execution_count": 2,
   "id": "b0da527b-3680-4c99-a203-5f7e48dbe1eb",
   "metadata": {},
   "outputs": [],
   "source": [
    "my_data = pd.read_csv('CL1.csv')"
   ]
  },
  {
   "cell_type": "code",
   "execution_count": 3,
   "id": "0110d226-7dac-45d4-a445-600a5bb1c968",
   "metadata": {},
   "outputs": [],
   "source": [
    "my_data = np.array(my_data)"
   ]
  },
  {
   "cell_type": "code",
   "execution_count": 4,
   "id": "384800ff-fe19-434b-a242-8aae2fc9bf27",
   "metadata": {},
   "outputs": [
    {
     "data": {
      "text/plain": [
       "(2771, 4)"
      ]
     },
     "execution_count": 4,
     "metadata": {},
     "output_type": "execute_result"
    }
   ],
   "source": [
    "np.shape(my_data)"
   ]
  },
  {
   "cell_type": "code",
   "execution_count": null,
   "id": "6ed83c38-ab72-4478-853a-8ad77a75d1f6",
   "metadata": {},
   "outputs": [],
   "source": []
  },
  {
   "cell_type": "code",
   "execution_count": 5,
   "id": "150e9e7b-ac89-4741-bd5f-1d4a953b2890",
   "metadata": {},
   "outputs": [],
   "source": [
    "def adder(Data,times):\n",
    "    for i in range(1, times + 1):\n",
    "        z = np.zeros((len(Data), 1), dtype = float)\n",
    "        Data = np.append(Data, z, axis = 1)\n",
    "    return Data\n",
    "\n",
    "my_data = adder(my_data, 3)"
   ]
  },
  {
   "cell_type": "code",
   "execution_count": 6,
   "id": "cdc4ca74-a470-4345-9c7b-dd5b869c66cf",
   "metadata": {},
   "outputs": [
    {
     "data": {
      "text/plain": [
       "(2771, 7)"
      ]
     },
     "execution_count": 6,
     "metadata": {},
     "output_type": "execute_result"
    }
   ],
   "source": [
    "np.shape(my_data)"
   ]
  },
  {
   "cell_type": "code",
   "execution_count": 7,
   "id": "648d2696-4a31-47f4-afd4-45d74d4b3e4e",
   "metadata": {},
   "outputs": [
    {
     "data": {
      "text/plain": [
       "<function matplotlib.pyplot.legend(*args, **kwargs)>"
      ]
     },
     "execution_count": 7,
     "metadata": {},
     "output_type": "execute_result"
    },
    {
     "data": {
      "image/png": "[encoded data removed]",
      "text/plain": [
       "<Figure size 432x288 with 1 Axes>"
      ]
     },
     "metadata": {
      "needs_background": "light"
     },
     "output_type": "display_data"
    }
   ],
   "source": [
    "plt.plot(my_data[:,3],color='black', label='Closing Price')\n",
    "\n",
    "plt.grid()\n",
    "\n",
    "plt.legend"
   ]
  },
  {
   "cell_type": "code",
   "execution_count": 8,
   "id": "c384383a-233e-4377-92a3-f2d5b811fa98",
   "metadata": {},
   "outputs": [],
   "source": [
    "def ma(Data, lookback, what, where):\n",
    "    for i in range(len(Data)):\n",
    "        try:\n",
    "            Data[i, where] = (Data[i-lookback + 1:i + 1, what].mean())\n",
    "        except IndexError:\n",
    "            pass\n",
    "    return Data"
   ]
  },
  {
   "cell_type": "code",
   "execution_count": 10,
   "id": "1aab4bea-fb23-4c56-8a62-ba328791b280",
   "metadata": {},
   "outputs": [
    {
     "ename": "SyntaxError",
     "evalue": "invalid syntax (Temp/ipykernel_25408/225430077.py, line 5)",
     "output_type": "error",
     "traceback": [
      "\u001b[1;36m  File \u001b[1;32m\"C:\\Users\\Azkar\\AppData\\Local\\Temp/ipykernel_25408/225430077.py\"\u001b[1;36m, line \u001b[1;32m5\u001b[0m\n\u001b[1;33m    Data[i, buy] = 1\u001b[0m\n\u001b[1;37m    ^\u001b[0m\n\u001b[1;31mSyntaxError\u001b[0m\u001b[1;31m:\u001b[0m invalid syntax\n"
     ]
    }
   ],
   "source": [
    "my_data = ma(my_data, 40, 4, 5)\n",
    "def signal(Data, closing, moving_average, buy, sell):\n",
    "    for i in range(len(Data)):\n",
    "        if Data[i, closing] > Data[i, moving_average and Data[i - 1, closing] < Data[i - 1, moving_average]\n",
    "            Data[i, buy] = 1\n",
    "        if Data[i, closing] < Data[i, moving_average and Data[i - 1, closing > Data[i - 1, moving_average]:\n",
    "            Data[i, sell] = -1                                                            \n",
    "signal(my_data, 4,5,6)"
   ]
  },
  {
   "cell_type": "code",
   "execution_count": null,
   "id": "d6e29a8c-63b3-46ba-a83b-6490113b9b82",
   "metadata": {},
   "outputs": [],
   "source": []
  },
  {
   "cell_type": "code",
   "execution_count": null,
   "id": "f87ceba1-9a46-464b-bb41-eece497de09e",
   "metadata": {},
   "outputs": [],
   "source": []
  }
 ],
 "metadata": {
  "kernelspec": {
   "display_name": "quant",
   "language": "python",
   "name": "quant"
  },
  "language_info": {
   "codemirror_mode": {
    "name": "ipython",
    "version": 3
   },
   "file_extension": ".py",
   "mimetype": "text/x-python",
   "name": "python",
   "nbconvert_exporter": "python",
   "pygments_lexer": "ipython3",
   "version": "3.9.7"
  }
 },
 "nbformat": 4,
 "nbformat_minor": 5
}
